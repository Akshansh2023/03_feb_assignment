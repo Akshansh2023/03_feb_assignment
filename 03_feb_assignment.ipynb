{
 "cells": [
  {
   "cell_type": "code",
   "execution_count": null,
   "id": "c6b2e76f-a1f4-44ef-8feb-24d367ae597e",
   "metadata": {},
   "outputs": [],
   "source": [
    "# Q1. Which keyword is used to create a function? Create a function to return a list of odd numbers in the range of 1 to 25."
   ]
  },
  {
   "cell_type": "code",
   "execution_count": null,
   "id": "ea7cb30a-ffaf-437b-96b5-3c30c7b0442e",
   "metadata": {},
   "outputs": [],
   "source": [
    "#answer \n",
    "# def keyboard is used to create a function.\n",
    "def oddnumberlist():\n",
    "    l1=[i for i in range(1,25) if i%2!=0 ]\n",
    "    return l1\n",
    "oddnumberlist()"
   ]
  },
  {
   "cell_type": "code",
   "execution_count": null,
   "id": "14d696db-77d9-4140-bbc0-b58b6ed9f274",
   "metadata": {},
   "outputs": [],
   "source": [
    "Q2. Why *args and **kwargs is used in some functions? Create a function each for *args and **kwargs to demonstrate their use."
   ]
  },
  {
   "cell_type": "code",
   "execution_count": null,
   "id": "b6fd3627-58b7-4f9f-a778-8cde09f6e75c",
   "metadata": {},
   "outputs": [],
   "source": [
    "#Ans: We use *args and **kwargs as an argument when we are unsure about the number of arguments to pass in the functions.\n",
    "#for *arg\n",
    "def forarg(*args):\n",
    "    l1=[str(i) for i in args]\n",
    "    return l1\n",
    "\n",
    "forarg(23,43,545,54,76)\n",
    "\n",
    "#for **kwargs\n",
    "def forkwargs(**kwargs):\n",
    "    for key,value in kwargs.items():\n",
    "        print(f\"{key} is {value}\")\n",
    "        \n",
    "forkwargs(ram = \"good boy\",he=\"a good boy\")"
   ]
  },
  {
   "cell_type": "code",
   "execution_count": null,
   "id": "e5c40233-165f-43a7-9c2f-0d2242ea0f97",
   "metadata": {},
   "outputs": [],
   "source": [
    "Q3. What is an iterator in python? Name the method used to initialise the iterator object and the method used for iteration. Use these methods to print the first five elements of the given list [2, 4, 6, 8, 10, 12, 14, 16, 18, 20]."
   ]
  },
  {
   "cell_type": "code",
   "execution_count": null,
   "id": "e4575a8b-cf12-4be4-8457-40388f9d8588",
   "metadata": {},
   "outputs": [],
   "source": [
    "# Answer :- Iterators are methods that iterate collections like lists, tuples, etc. Using an iterator method, we can loop through an object and return its elements. \n",
    "# The for loop in Python is used to iterate over a sequence of elements, such as a list, tuple, or string. When we use the for loop with an iterator, \n",
    "# the loop will automatically iterate over the elements of the iterator until it is exhausted.\n",
    "#using iterator method to print the first five element of given list\n",
    "# l=[2, 4, 6, 8, 10, 12, 14, 16, 18, 20]\n",
    "l=[2, 4, 6, 8, 10, 12, 14, 16, 18, 20]\n",
    "count=0\n",
    "for i in l:\n",
    "    if count<5:\n",
    "        print(i)\n",
    "        count+=1"
   ]
  },
  {
   "cell_type": "markdown",
   "id": "ec516415-3360-495b-9633-bc5f0c218de9",
   "metadata": {},
   "source": [
    "Q4. What is a generator function in python? Why yield keyword is used? Give an example of a generator function."
   ]
  },
  {
   "cell_type": "code",
   "execution_count": null,
   "id": "2c4b81a0-edb6-464f-809f-96fad4e87637",
   "metadata": {},
   "outputs": [],
   "source": [
    "'''answer:- A generator function in Python is a special type of function that returns a generator iterator, which can be used to iterate over a sequence of elements.\n",
    "A generator function is defined like a normal function, but instead of using the return statement to return a value, it uses the yield statement.\n",
    "The yield statement is used to produce a value, and the generator function can be resumed from where it left off the next time next() is called on the generator.'''\n",
    "# example to print even number using yield \n",
    "def EvenNum(n):\n",
    "    i=0\n",
    "    for i in range (n):\n",
    "        if i%2==0:\n",
    "            yield str(i)\n",
    "        i=i+1\n",
    "\n",
    "for j in EvenNum(20):\n",
    "    print(j)\n"
   ]
  },
  {
   "cell_type": "markdown",
   "id": "e898e2d2-2e24-46da-8f1a-ea7aca6c8d95",
   "metadata": {},
   "source": [
    "Q5. Create a generator function for prime numbers less than 1000. Use the next() method to print the first 20 prime numbers."
   ]
  },
  {
   "cell_type": "code",
   "execution_count": null,
   "id": "65b3d433-8316-40ac-a521-c7b54052118f",
   "metadata": {},
   "outputs": [],
   "source": [
    "\n",
    "#a generator function for prime numbers less than 1000. Use the next() method to print the first 20 prime numbers.\n",
    "\n",
    "    # \"\"\"Create a generator function for prime numbers less than 1000.\"\"\"\n",
    "def prime_numbers ():\n",
    "    '''\n",
    "    This generator function generates the first 20 prime numbers in the range 2 to 1000\n",
    "    '''\n",
    "    primes =[]\n",
    "    for num in range(2, 1000):\n",
    "        for prime in primes:\n",
    "            if num%prime==0:\n",
    "                break\n",
    "        else:\n",
    "            primes.append(num)\n",
    "            yield num\n",
    "# Print the first 20 prime numbers\n",
    "prime=prime_numbers ( )\n",
    "for i in range(1,21):\n",
    "    print(next (prime))"
   ]
  },
  {
   "cell_type": "code",
   "execution_count": null,
   "id": "772df48d-5839-4f8d-8741-9a148795b22c",
   "metadata": {},
   "outputs": [],
   "source": [
    "Q6. Write a python program to print the first 10 Fibonacci numbers using a while loop."
   ]
  },
  {
   "cell_type": "code",
   "execution_count": null,
   "id": "511ea44f-8871-4a2f-8855-261f5aa76c64",
   "metadata": {},
   "outputs": [],
   "source": [
    "#answer \n",
    "#printing first 10 fibonacci series using while loop \n",
    "def fibonacci(n):\n",
    "    a,b=0,1\n",
    "    count=0\n",
    "    while count<n:\n",
    "        yield a\n",
    "        a,b=b,a+b\n",
    "        count=count+1\n",
    "c=fibonacci(10)\n",
    "for i in c:\n",
    "    print(i)\n"
   ]
  },
  {
   "cell_type": "code",
   "execution_count": null,
   "id": "abbe7024-8423-47e0-a9fa-4f223cab854b",
   "metadata": {},
   "outputs": [],
   "source": [
    "Q7. Write a List Comprehension to iterate through the given string: ‘pwskills’.\n",
    "Expected output: ['p', 'w', 's', 'k', 'i', 'l', 'l', 's']"
   ]
  },
  {
   "cell_type": "code",
   "execution_count": null,
   "id": "bf9adc4e-2af8-4b7a-9346-2cea904ba97d",
   "metadata": {},
   "outputs": [],
   "source": [
    "#answer\n",
    "string=\"pwskills\"\n",
    "[i for i in string ]"
   ]
  },
  {
   "cell_type": "code",
   "execution_count": null,
   "id": "a306e954-4289-4880-ac17-370296cf45e3",
   "metadata": {},
   "outputs": [],
   "source": [
    "Q8. Write a python program to check whether a given number is Palindrome or not using a while loop."
   ]
  },
  {
   "cell_type": "code",
   "execution_count": null,
   "id": "17d97ad6-2c50-4aa5-a516-af4065b8d4e2",
   "metadata": {},
   "outputs": [],
   "source": [
    "num=int(input(\"Enter a number:\"))\n",
    "temp=num\n",
    "rev=0\n",
    "while(num>0):\n",
    "    dig=num%10\n",
    "    rev=rev*10+dig\n",
    "    num=num//10\n",
    "if(temp==rev):\n",
    "    print(\"The number is palindrome!\")\n",
    "else:\n",
    "    print(\"Not a palindrome!\")"
   ]
  },
  {
   "cell_type": "code",
   "execution_count": null,
   "id": "6068ea6a-d9bd-4f3b-adfe-fd9ac62b6517",
   "metadata": {},
   "outputs": [],
   "source": [
    "Q9. Write a code to print odd numbers from 1 to 100 using list comprehension."
   ]
  },
  {
   "cell_type": "code",
   "execution_count": null,
   "id": "c23a341c-9961-4963-9a94-66bdb94ccf25",
   "metadata": {},
   "outputs": [],
   "source": [
    "#answer\n",
    "oddnumlist=[i for i in range (1,101) if i%2!=0]\n",
    "print(oddnumlist)"
   ]
  },
  {
   "cell_type": "code",
   "execution_count": null,
   "id": "9431f187-850d-46da-bab4-876479d3ad2a",
   "metadata": {},
   "outputs": [],
   "source": []
  },
  {
   "cell_type": "code",
   "execution_count": null,
   "id": "de8c3d69-7a7a-475f-a976-78b3262a236b",
   "metadata": {},
   "outputs": [],
   "source": []
  },
  {
   "cell_type": "code",
   "execution_count": null,
   "id": "75c9e0d4-0a24-4776-9676-53b55813f0ae",
   "metadata": {},
   "outputs": [],
   "source": []
  },
  {
   "cell_type": "code",
   "execution_count": null,
   "id": "5a4db1cc-ebda-4ec4-9e7d-c7776b940b12",
   "metadata": {},
   "outputs": [],
   "source": []
  }
 ],
 "metadata": {
  "kernelspec": {
   "display_name": "Python 3 (ipykernel)",
   "language": "python",
   "name": "python3"
  },
  "language_info": {
   "codemirror_mode": {
    "name": "ipython",
    "version": 3
   },
   "file_extension": ".py",
   "mimetype": "text/x-python",
   "name": "python",
   "nbconvert_exporter": "python",
   "pygments_lexer": "ipython3",
   "version": "3.10.8"
  }
 },
 "nbformat": 4,
 "nbformat_minor": 5
}
